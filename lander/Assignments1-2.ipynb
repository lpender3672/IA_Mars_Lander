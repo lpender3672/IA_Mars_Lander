{
 "cells": [
  {
   "cell_type": "code",
   "execution_count": 2,
   "metadata": {},
   "outputs": [],
   "source": [
    "import numpy as np\n",
    "from matplotlib import pyplot as plt"
   ]
  },
  {
   "cell_type": "code",
   "execution_count": 3,
   "metadata": {},
   "outputs": [],
   "source": [
    "\n",
    "class particle():\n",
    "    def __init__(self, mass, x0, v0):\n",
    "        self.mass = mass\n",
    "        self.x0 = x0\n",
    "        self.v0 = v0\n",
    "\n",
    "        self.x = x0\n",
    "        self.v = v0\n",
    "\n",
    "    def energy(self, v):\n",
    "        return 0.5 * self.mass * np.linalg.norm(v) ** 2\n",
    "\n",
    "    def momentum(self):\n",
    "        return self.mass * self.velocity\n",
    "\n",
    "class spring():\n",
    "    def __init__(self, k, x0, v0):\n",
    "        self.k = k\n",
    "        self.x0 = x0\n",
    "        self.v0 = v0\n",
    "\n",
    "    def energy(self, x):\n",
    "        return 0.5 * self.k * (x - self.x0) ** 2\n"
   ]
  },
  {
   "cell_type": "code",
   "execution_count": 4,
   "metadata": {},
   "outputs": [],
   "source": [
    "\n",
    "def euler_integration(particle, force, t_max, dt = 0.001):\n",
    "    t_array = np.arange(0, t_max, dt)\n",
    "    pos = []\n",
    "    vel = []\n",
    "\n",
    "    for t in t_array:\n",
    "        particle.x = particle.x + particle.v * dt\n",
    "        particle.v = particle.v + force(particle) / particle.mass * dt\n",
    "\n",
    "        pos.append(particle.x)\n",
    "        vel.append(particle.v)\n",
    "        \n",
    "    return np.array(pos), np.array(vel)\n",
    "\n",
    "\n",
    "def verlet_integrate(particle, force, t_max, dt = 0.001):\n",
    "    t_array = np.arange(0, t_max, dt)\n",
    "    pos = []\n",
    "    vel = []\n",
    "    for t in t_array:\n",
    "        particle.x = particle.x + particle.v * dt + 0.5 * force(particle) / particle.mass * dt ** 2\n",
    "        particle.v = particle.v + force(particle) / particle.mass * dt\n",
    "        pos.append(particle.x)\n",
    "        vel.append(particle.v)\n",
    "        \n",
    "    return np.array(pos), np.array(vel)\n",
    "\n",
    "\n",
    "def runge_kutta(particle, force, t_max, dt = 0.00001):\n",
    "    t_array = np.arange(0, t_max, dt)\n",
    "    pos = []\n",
    "    vel = []\n",
    "    for t in t_array:\n",
    "        k1 = particle.v\n",
    "        l1 = force(particle) / particle.mass\n",
    "        k2 = particle.v + l1 * dt / 2\n",
    "        l2 = force(particle) / particle.mass\n",
    "        k3 = particle.v + l2 * dt / 2\n",
    "        l3 = force(particle) / particle.mass\n",
    "        k4 = particle.v + l3 * dt\n",
    "        l4 = force(particle) / particle.mass\n",
    "        particle.x = particle.x + (k1 + 2 * k2 + 2 * k3 + k4) * dt / 6\n",
    "        particle.v = particle.v + (l1 + 2 * l2 + 2 * l3 + l4) * dt / 6\n",
    "        \n",
    "        pos.append(particle.x)\n",
    "        vel.append(particle.v)\n",
    "    \n",
    "    return np.array(pos), np.array(vel)\n"
   ]
  },
  {
   "cell_type": "code",
   "execution_count": 5,
   "metadata": {},
   "outputs": [],
   "source": [
    "# spring case\n",
    "\n",
    "class spring_mass_system():\n",
    "    def __init__(self, mass, k, l0, x_m = np.zeros(3, dtype = float), v0 = np.zeros(3, dtype = float), x_s = np.zeros(3, dtype = float)):\n",
    "        self.k = k\n",
    "        self.mass = mass\n",
    "        self.l0 = l0\n",
    "\n",
    "        self.spring = spring(k, x_s, v0)\n",
    "        self.particle = particle(mass, x_m, v0)\n",
    "\n",
    "    def energy(self, x):\n",
    "        return self.spring.energy(x) + self.particle.energy(self.particle.v)\n",
    "    \n",
    "    def force(self, particle):\n",
    "        #return np.gradient(self.energy(particle.x), particle.x)\n",
    "        return -self.k * (np.linalg.norm(particle.x) - self.l0) * particle.x / np.linalg.norm(particle.x)\n",
    "    \n",
    "    def solve(self, method, t_max, dt = 0.001):\n",
    "        pos,vel = method(self.particle, self.force, t_max, dt)\n",
    "        return pos, vel\n",
    "    \n",
    "    def solution(self, t):\n",
    "        x0 = self.particle.x0[0]\n",
    "        v0 = self.particle.v0[0]\n",
    "        w = np.sqrt(self.k / self.mass)\n",
    "        A = x0\n",
    "        B = v0/w\n",
    "        return A * np.cos(w * t) + B * np.sin(w * t)\n",
    "    \n",
    "    \n"
   ]
  },
  {
   "cell_type": "code",
   "execution_count": 6,
   "metadata": {},
   "outputs": [
    {
     "name": "stderr",
     "output_type": "stream",
     "text": [
      "C:\\Users\\louis\\AppData\\Local\\Temp\\ipykernel_65028\\1143418739.py:17: RuntimeWarning: invalid value encountered in true_divide\n",
      "  return -self.k * (np.linalg.norm(particle.x) - self.l0) * particle.x / np.linalg.norm(particle.x)\n"
     ]
    },
    {
     "data": {
      "text/plain": [
       "[<matplotlib.lines.Line2D at 0x1aed62b8880>]"
      ]
     },
     "execution_count": 6,
     "metadata": {},
     "output_type": "execute_result"
    },
    {
     "data": {
      "image/png": "[encoded data removed]",
      "text/plain": [
       "<Figure size 432x288 with 1 Axes>"
      ]
     },
     "metadata": {
      "needs_background": "light"
     },
     "output_type": "display_data"
    }
   ],
   "source": [
    "mass_position = np.array([1, 0, 0], dtype = float)\n",
    "velocity = np.array([1, 0, 0], dtype = float)\n",
    "system = spring_mass_system(1, 1, 1, mass_position, velocity)\n",
    "\n",
    "T = 10\n",
    "dt = 0.001\n",
    "\n",
    "pos,vel = system.solve(verlet_integrate, T, dt)\n",
    "t_array = np.arange(0, T, dt)\n",
    "plt.plot(t_array, pos[:, 0])\n",
    "#plt.plot(t_array, system.solution(t_array))"
   ]
  },
  {
   "cell_type": "code",
   "execution_count": 7,
   "metadata": {},
   "outputs": [
    {
     "name": "stdout",
     "output_type": "stream",
     "text": [
      "final rms error for runge_kutta is 0.0007059770472456849\n",
      "final rms error for verlet_integrate is 0.0005965266492522431\n",
      "final rms error for euler_integration is 0.00017272791980135253\n"
     ]
    },
    {
     "data": {
      "image/png": "[encoded data removed]",
      "text/plain": [
       "<Figure size 720x720 with 3 Axes>"
      ]
     },
     "metadata": {
      "needs_background": "light"
     },
     "output_type": "display_data"
    }
   ],
   "source": [
    "errors = []\n",
    "solve_times = []\n",
    "\n",
    "def test_iteration(method, dt):\n",
    "  \n",
    "  T = 10  \n",
    "  mass_position = np.array([1, 0, 0], dtype = float)\n",
    "  velocity = np.array([0, 0, 0], dtype = float)\n",
    "  system = spring_mass_system(1, 1, 0, mass_position, velocity)\n",
    "\n",
    "  pos, vel = system.solve(method, T, dt)\n",
    "  t_array = np.arange(0, T, dt)\n",
    "  rms_error = np.sqrt(np.mean((pos[:, 0] - system.solution(t_array)) ** 2, axis = 0))\n",
    "  errors.append( rms_error )\n",
    "\n",
    "\n",
    "def test_method(plot_axis, method):\n",
    "  solve_times = []\n",
    "  errors = []\n",
    "  time_steps = np.linspace(0.5,0.0005,100)\n",
    "  for dt in time_steps:\n",
    "    t = %timeit -q -n1 -r1 -o test_iteration(method,dt)\n",
    "    solve_times.append( t.best)\n",
    "\n",
    "  plot_axis.plot(time_steps, solve_times, label = 'compute time s')\n",
    "  plot_axis.plot(time_steps, errors, label='rms error')\n",
    "  plot_axis.set_title(method.__name__)\n",
    "\n",
    "  print(f\"final rms error for {method.__name__} is {errors[-1]}\")\n",
    "\n",
    "\n",
    "\n",
    "fig, axs = plt.subplots(3, 1, figsize = (10, 10), sharex=True)\n",
    "\n",
    "methods = [runge_kutta, verlet_integrate, euler_integration]\n",
    "\n",
    "for m in methods:\n",
    "  test_method(axs[methods.index(m)], m)\n",
    "\n",
    "axs[0].set_xlim(axs[0].get_xlim()[::-1])\n",
    "\n",
    "plt.legend()\n",
    "plt.show()"
   ]
  },
  {
   "cell_type": "code",
   "execution_count": 8,
   "metadata": {},
   "outputs": [],
   "source": [
    "G = 6.67408e-11\n",
    "\n",
    "class solar_system():\n",
    "    def __init__(self, M, m, planet_pos, planet_vel): # relative to sun\n",
    "        self.M = M\n",
    "        self.m = m\n",
    "\n",
    "        self.sun = particle(M, np.zeros(3), np.zeros(3)) # coordinate system based on star\n",
    "        self.planet = particle(m, planet_pos, planet_vel)\n",
    "    \n",
    "    def force(self, particle): # force on planet\n",
    "        return -G * self.M * self.m * particle.x / np.linalg.norm(particle.x) ** 3\n",
    "\n",
    "    def solve(self, method, t_max, dt = 0.001):\n",
    "        pos,vel = method(self.planet, self.force, t_max, dt)\n",
    "        return pos, vel\n"
   ]
  },
  {
   "cell_type": "markdown",
   "metadata": {},
   "source": [
    "Scenario 1"
   ]
  },
  {
   "cell_type": "code",
   "execution_count": 9,
   "metadata": {},
   "outputs": [
    {
     "data": {
      "text/plain": [
       "Text(0, 0.5, 'altitude (m)')"
      ]
     },
     "execution_count": 9,
     "metadata": {},
     "output_type": "execute_result"
    },
    {
     "data": {
      "image/png": "[encoded data removed]",
      "text/plain": [
       "<Figure size 432x288 with 1 Axes>"
      ]
     },
     "metadata": {
      "needs_background": "light"
     },
     "output_type": "display_data"
    }
   ],
   "source": [
    "from matplotlib.patches import Rectangle\n",
    "\n",
    "mars_mass = 6.42e23\n",
    "mars_radius = 3.3895e6\n",
    "meteor_mass = 1e3\n",
    "\n",
    "initial_altitude = 3 * mars_radius\n",
    "\n",
    "meteor_position = np.array([initial_altitude, 0, 0], dtype = float)\n",
    "meteor_velocity = np.array([0, 0, 0], dtype = float)\n",
    "\n",
    "meteor_planet_collision = solar_system(mars_mass, meteor_mass, meteor_position, meteor_velocity)\n",
    "\n",
    "T = 5000\n",
    "dt = 0.01\n",
    "t_array = np.arange(0, T, dt)\n",
    "pos, vel = meteor_planet_collision.solve(verlet_integrate, T, dt)\n",
    "\n",
    "altidudes = np.linalg.norm(pos, axis = 1) - mars_radius\n",
    "\n",
    "ax = plt.gca()\n",
    "ax.plot(t_array, altidudes)\n",
    "y0,_ = ax.get_ylim()\n",
    "x0,x1 = ax.get_xlim()\n",
    "ax.add_patch(Rectangle((x0 - .5, y0 - .5), x1 - x0, - y0, facecolor=\"brown\"))\n",
    "plt.xlabel('time (s)')\n",
    "plt.ylabel('altitude (m)')"
   ]
  },
  {
   "cell_type": "markdown",
   "metadata": {},
   "source": [
    "Scenario 2\n",
    "\n",
    "Phobos orbiting mars in a circular orbit. Phobos is actually in an orbit of eccentricity 0.0151 which still looks like a circle"
   ]
  },
  {
   "cell_type": "code",
   "execution_count": 10,
   "metadata": {},
   "outputs": [
    {
     "data": {
      "text/plain": [
       "(-10315095.255485913,\n",
       " 10315766.438185431,\n",
       " -10314512.024907852,\n",
       " 10315611.015479334)"
      ]
     },
     "execution_count": 10,
     "metadata": {},
     "output_type": "execute_result"
    },
    {
     "data": {
      "image/png": "[encoded data removed]",
      "text/plain": [
       "<Figure size 432x288 with 1 Axes>"
      ]
     },
     "metadata": {
      "needs_background": "light"
     },
     "output_type": "display_data"
    }
   ],
   "source": [
    "from matplotlib.patches import Circle\n",
    "\n",
    "mars_mass = 6.42e23\n",
    "mars_radius = 3.3895e6\n",
    "phobos_mass = 1.0659e16\n",
    "phobos_orbit_radius = 9.378e6\n",
    "\n",
    "def velocity_for_circular_orbit(m1, m2, r):\n",
    "    return np.sqrt(G * (m1 + m2) / r)\n",
    "\n",
    "phobos_position = np.array([phobos_orbit_radius, 0, 0], dtype = float)\n",
    "phobos_velocity = np.array([0, velocity_for_circular_orbit(mars_mass, phobos_mass, phobos_orbit_radius), 0])\n",
    "mars_moons_orbit = solar_system(mars_mass, phobos_mass, phobos_position, phobos_velocity)\n",
    "\n",
    "pos,vel = mars_moons_orbit.solve(verlet_integrate, 60000, 0.1)\n",
    "\n",
    "ax = plt.gca()\n",
    "y0,_ = ax.get_ylim()\n",
    "x0,x1 = ax.get_xlim()\n",
    "ax.plot(pos[:, 0], pos[:, 1])\n",
    "ax.add_patch(Circle((0, 0), mars_radius, facecolor=\"brown\"))\n",
    "ax.axis('scaled')"
   ]
  },
  {
   "cell_type": "markdown",
   "metadata": {},
   "source": [
    "Scenario 3\n",
    "\n",
    "Elliptic orbit of Bennu, an asteroid thats also a potentially hazardous object which has a high chance of impacting earth between the years 2178 - 2290.\n",
    "Bennu has an orbit of eccentricity of 0.20375\n",
    "The sun is also scaled up by 100x to be seen clearly"
   ]
  },
  {
   "cell_type": "code",
   "execution_count": 11,
   "metadata": {},
   "outputs": [],
   "source": [
    "sun_mass = 1.989e30\n",
    "sun_radius = 6.957e8\n",
    "bennu_mass = 7.329e10\n",
    "\n",
    "bennu_position = np.array([134.173e9, 0, 0])\n",
    "bennu_velocity = np.array([0, 1.5*28e3, 0])\n",
    "\n",
    "mars_moons_orbit = solar_system(sun_mass, bennu_mass, bennu_position, bennu_velocity)\n",
    "\n",
    "pos,vel = mars_moons_orbit.solve(verlet_integrate, 1000000000, 1000)\n",
    "\n",
    "ax = plt.gca()\n",
    "y0,_ = ax.get_ylim()\n",
    "x0,x1 = ax.get_xlim()\n",
    "ax.plot(pos[:, 0], pos[:, 1])\n",
    "ax.add_patch(Circle((0, 0), sun_radius * 10 ** 2, facecolor=\"yellow\"))\n",
    "ax.axis('scaled')"
   ]
  },
  {
   "cell_type": "markdown",
   "metadata": {},
   "source": [
    "Scenario 4 Voyager 1 jupyter gravity jump"
   ]
  },
  {
   "cell_type": "code",
   "execution_count": null,
   "metadata": {},
   "outputs": [
    {
     "data": {
      "text/plain": [
       "(-1123423646.8024297,\n",
       " 521706583.86521196,\n",
       " -492240626.3629724,\n",
       " 1108801154.0280957)"
      ]
     },
     "execution_count": 40,
     "metadata": {},
     "output_type": "execute_result"
    },
    {
     "data": {
      "image/png": "[encoded data removed]",
      "text/plain": [
       "<Figure size 432x288 with 1 Axes>"
      ]
     },
     "metadata": {
      "needs_background": "light"
     },
     "output_type": "display_data"
    }
   ],
   "source": [
    "\n",
    "jupyter_mass = 1.898e27\n",
    "jupyter_radius = 6.9911e7\n",
    "voyager1_mass = 825.5\n",
    "voyager1_position = np.array([- 15 * jupyter_radius, - 6 * jupyter_radius, 0])\n",
    "voyager1_velocity = np.array([2e4, 0, 0])\n",
    "\n",
    "voyager1_gravity_jump = solar_system(jupyter_mass, voyager1_mass, voyager1_position, voyager1_velocity)\n",
    "\n",
    "pos,vel = voyager1_gravity_jump.solve(verlet_integrate, 100000, 1)\n",
    "\n",
    "ax = plt.gca()\n",
    "y0,_ = ax.get_ylim()\n",
    "x0,x1 = ax.get_xlim()\n",
    "ax.plot(pos[:, 0], pos[:, 1])\n",
    "ax.add_patch(Circle((0, 0), jupyter_radius, facecolor=\"orange\"))\n",
    "ax.axis('scaled')"
   ]
  },
  {
   "cell_type": "markdown",
   "metadata": {},
   "source": [
    "Scenario 4 part 2 hyperbolic escape from planet surface\n",
    "Future Clipper spacecraft taking off from Jupyters moon Europa"
   ]
  },
  {
   "cell_type": "code",
   "execution_count": null,
   "metadata": {},
   "outputs": [
    {
     "data": {
      "text/plain": [
       "(-2200974.220367052,\n",
       " 11900458.627708094,\n",
       " -1908231.957275461,\n",
       " 2071936.2238784838)"
      ]
     },
     "execution_count": 71,
     "metadata": {},
     "output_type": "execute_result"
    },
    {
     "data": {
      "image/png": "[encoded data removed]",
      "text/plain": [
       "<Figure size 432x288 with 1 Axes>"
      ]
     },
     "metadata": {
      "needs_background": "light"
     },
     "output_type": "display_data"
    }
   ],
   "source": [
    "\n",
    "europa_mass = 4.799e22\n",
    "europa_radius = 1.56e6\n",
    "clipper_mass = 400\n",
    "clipper_position = np.array([0, - europa_radius, 0])\n",
    "clipper_velocity = np.array([2e3, -6e2, 0])\n",
    "\n",
    "clipper_hyperbolic_escape = solar_system(europa_mass, clipper_mass, clipper_position, clipper_velocity)\n",
    "\n",
    "pos,vel = clipper_hyperbolic_escape.solve(verlet_integrate, 10000, 1)\n",
    "\n",
    "ax = plt.gca()\n",
    "y0,_ = ax.get_ylim()\n",
    "x0,x1 = ax.get_xlim()\n",
    "ax.plot(pos[:, 0], pos[:, 1])\n",
    "ax.add_patch(Circle((0, 0), europa_radius, facecolor=\"orange\"))\n",
    "ax.axis('scaled')"
   ]
  }
 ],
 "metadata": {
  "kernelspec": {
   "display_name": "Python 3.10.4 64-bit",
   "language": "python",
   "name": "python3"
  },
  "language_info": {
   "codemirror_mode": {
    "name": "ipython",
    "version": 3
   },
   "file_extension": ".py",
   "mimetype": "text/x-python",
   "name": "python",
   "nbconvert_exporter": "python",
   "pygments_lexer": "ipython3",
   "version": "3.10.4"
  },
  "orig_nbformat": 4,
  "vscode": {
   "interpreter": {
    "hash": "52af2100627e19856ff19ffeecc72f0dde92b1b054ee87d4964f694fb586b018"
   }
  }
 },
 "nbformat": 4,
 "nbformat_minor": 2
}
